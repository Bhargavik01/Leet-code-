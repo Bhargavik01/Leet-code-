Write a function to find the longest common prefix string amongst an array of strings.
If there is no common prefix, return an empty string "".


Example 1:

Input: strs = ["flower","flow","flight"]
Output: "fl"
Example 2:

Input: strs = ["dog","racecar","car"]
Output: ""
Explanation: There is no common prefix among the input strings.
 
Constraints:
1 <= strs.length <= 200
0 <= strs[i].length <= 200
strs[i] consists of only lowercase English letters if it is non-empty.

-----------------------------------------------------------------------------
Step 2: Approaches
🔹 Approach 1: Vertical Scanning (Intuitive)
Check character by character across all strings.
Look at index 0 of every word. If they all match → good.
Move to index 1, check again.
Stop when one mismatches OR when you reach the end of one string.
This is very intuitive → like stacking the words vertically and scanning top to bottom.

🔹 Approach 2: Horizontal Scanning
Take the first word as the prefix.
Compare it with the second → shrink the prefix until it matches.
Then compare with the third → shrink again.
Repeat until done.
-----------------------------------------------------------------------------
Vertical Approach:

class Solution(object):
    def longestCommonPrefix(self, strs):
        if not strs:
            return ""
        
        # loop character by character
        for i in range(len(strs[0])):
            char = strs[0][i]
            for word in strs[1:]:
                # if mismatch OR word is too short → stop
                if i >= len(word) or word[i] != char:
                    return strs[0][:i]
        return strs[0]

 (or)
class Solution(object):
    def longestCommonPrefix(self, strs):
        res=""
        shortest_length = min(strs, key=len)
        for i in range(len(shortest_length)):
            for s in strs:
                if s[i]!=shortest_length[i]:
                    return res
            res+=shortest_length[i]
                
        return res
-----------------------------------------------------------------------------
✅ Walkthrough Example

Input: ["flower","flow","flight"]
i=0 → check f vs all → ✅
i=1 → check l vs all → ✅
i=2 → check o vs "flower" (o), "flow" (o), "flight" (i ❌) → stop.
Answer: "fl"

🎯 Complexity
Time: O(S) where S = total number of characters in all strings.
Space: O(1) (just returning a substring).


* Horizontal way:

class Solution(object):
    def longestCommonPrefix(self, strs):
        if not strs:
            return ""
        
        # take the first word as the starting prefix
        prefix = strs[0]
        
        for word in strs[1:]:
            # shrink prefix until word starts with it
            while not word.startswith(prefix):
                prefix = prefix[:-1]   # cut off last char
                if prefix == "":
                    return ""
        
        return prefix


Complexity
Time: O(S) where S = total characters across all words.
Space: O(1).
