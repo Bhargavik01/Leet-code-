{
 "cells": [
  {
   "cell_type": "markdown",
   "id": "393ea4fa",
   "metadata": {},
   "source": [
    "Write a function to find the longest common prefix string amongst an array of strings.\n",
    "\n",
    "If there is no common prefix, return an empty string \"\".\n",
    "\n",
    " \n",
    "\n",
    "Example 1:\n",
    "\n",
    "Input: strs = [\"flower\",\"flow\",\"flight\"]\n",
    "Output: \"fl\"\n",
    "Example 2:\n",
    "\n",
    "Input: strs = [\"dog\",\"racecar\",\"car\"]\n",
    "Output: \"\"\n",
    "Explanation: There is no common prefix among the input strings."
   ]
  },
  {
   "cell_type": "code",
   "execution_count": 2,
   "id": "bf56a83c",
   "metadata": {},
   "outputs": [],
   "source": [
    "\n",
    "\n",
    "class Solution(object):\n",
    "    def longestCommonPrefix(self, strs):\n",
    "        res=\"\"\n",
    "        shortest_length = min(strs, key=len)\n",
    "        for i in range(len(shortest_length)):\n",
    "            for s in strs:\n",
    "                if s[i]!=shortest_length[i]:\n",
    "                    return res\n",
    "            res+=shortest_length[i]\n",
    "                \n",
    "        return res"
   ]
  },
  {
   "cell_type": "code",
   "execution_count": 3,
   "id": "ecf74697",
   "metadata": {},
   "outputs": [
    {
     "name": "stdout",
     "output_type": "stream",
     "text": [
      "fl\n",
      "\n"
     ]
    }
   ],
   "source": [
    "solution = Solution()\n",
    "print(solution.longestCommonPrefix([\"flower\", \"flow\", \"flight\"]))  # Output: \"fl\"\n",
    "print(solution.longestCommonPrefix([\"dog\", \"racecar\", \"car\"]))  # Output: \"\""
   ]
  },
  {
   "cell_type": "code",
   "execution_count": null,
   "id": "8f0b037a",
   "metadata": {},
   "outputs": [],
   "source": []
  }
 ],
 "metadata": {
  "kernelspec": {
   "display_name": "Python 3 (ipykernel)",
   "language": "python",
   "name": "python3"
  },
  "language_info": {
   "codemirror_mode": {
    "name": "ipython",
    "version": 3
   },
   "file_extension": ".py",
   "mimetype": "text/x-python",
   "name": "python",
   "nbconvert_exporter": "python",
   "pygments_lexer": "ipython3",
   "version": "3.9.7"
  }
 },
 "nbformat": 4,
 "nbformat_minor": 5
}
